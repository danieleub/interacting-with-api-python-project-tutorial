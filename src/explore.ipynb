{
    "cells": [
        {
            "cell_type": "markdown",
            "metadata": {},
            "source": [
                "# Explore here"
            ]
        },
        {
            "cell_type": "code",
            "execution_count": 2,
            "metadata": {},
            "outputs": [
                {
                    "name": "stdout",
                    "output_type": "stream",
                    "text": [
                        "Defaulting to user installation because normal site-packages is not writeable\n",
                        "Requirement already satisfied: spotipy in /home/vscode/.local/lib/python3.11/site-packages (2.23.0)\n",
                        "Requirement already satisfied: redis>=3.5.3 in /home/vscode/.local/lib/python3.11/site-packages (from spotipy) (6.2.0)\n",
                        "Requirement already satisfied: requests>=2.25.0 in /home/vscode/.local/lib/python3.11/site-packages (from spotipy) (2.27.1)\n",
                        "Requirement already satisfied: six>=1.15.0 in /home/vscode/.local/lib/python3.11/site-packages (from spotipy) (1.17.0)\n",
                        "Requirement already satisfied: urllib3>=1.26.0 in /home/vscode/.local/lib/python3.11/site-packages (from spotipy) (1.26.20)\n",
                        "Requirement already satisfied: certifi>=2017.4.17 in /home/vscode/.local/lib/python3.11/site-packages (from requests>=2.25.0->spotipy) (2025.4.26)\n",
                        "Requirement already satisfied: charset-normalizer~=2.0.0 in /home/vscode/.local/lib/python3.11/site-packages (from requests>=2.25.0->spotipy) (2.0.12)\n",
                        "Requirement already satisfied: idna<4,>=2.5 in /home/vscode/.local/lib/python3.11/site-packages (from requests>=2.25.0->spotipy) (3.10)\n",
                        "\n",
                        "\u001b[1m[\u001b[0m\u001b[34;49mnotice\u001b[0m\u001b[1;39;49m]\u001b[0m\u001b[39;49m A new release of pip is available: \u001b[0m\u001b[31;49m23.1.2\u001b[0m\u001b[39;49m -> \u001b[0m\u001b[32;49m25.1.1\u001b[0m\n",
                        "\u001b[1m[\u001b[0m\u001b[34;49mnotice\u001b[0m\u001b[1;39;49m]\u001b[0m\u001b[39;49m To update, run: \u001b[0m\u001b[32;49mpip install --upgrade pip\u001b[0m\n",
                        "Note: you may need to restart the kernel to use updated packages.\n"
                    ]
                }
            ],
            "source": [
                "pip install spotipy"
            ]
        },
        {
            "cell_type": "code",
            "execution_count": 3,
            "metadata": {},
            "outputs": [],
            "source": [
                "import os\n",
                "import pandas as pd\n",
                "import matplotlib.pyplot as plt\n",
                "import seaborn as sns\n",
                "from dotenv import load_dotenv\n",
                "\n",
                "load_dotenv()\n",
                "\n",
                "client_id = os.environ.get(\"CLIENT_ID\")\n",
                "client_secreta = os.environ.get(\"CLIENT_SECRET\")"
            ]
        },
        {
            "cell_type": "code",
            "execution_count": 4,
            "metadata": {},
            "outputs": [],
            "source": [
                "import spotipy\n",
                "from spotipy.oauth2 import SpotifyClientCredentials\n",
                "\n",
                "auth_manager = SpotifyClientCredentials(client_id=client_id, client_secret=client_secreta)\n",
                "spotify = spotipy.Spotify(auth_manager=auth_manager)"
            ]
        },
        {
            "cell_type": "code",
            "execution_count": 5,
            "metadata": {},
            "outputs": [],
            "source": [
                "artist_id = \"0W4t58pS2IXD4R8CTj2zH7\"\n",
                "\n",
                "results = spotify.artist_top_tracks(artist_id)\n",
                "\n",
                "canciones = []\n",
                "for track in results['tracks']:\n",
                "    canciones.append({\n",
                "        'nombre': track['name'],\n",
                "        'popularidad': track['popularity'],\n",
                "        'duracion': track['duration_ms'] / 60000\n",
                "    })"
            ]
        },
        {
            "cell_type": "code",
            "execution_count": 6,
            "metadata": {},
            "outputs": [
                {
                    "name": "stdout",
                    "output_type": "stream",
                    "text": [
                        "                   nombre  popularidad  duracion\n",
                        "0               Break up!           28  4.111200\n",
                        "1             Brave Heart           25  4.077450\n",
                        "2                 SLASH!!           26  3.912250\n",
                        "3          DAN DAN 心魅かれてく           29  3.558333\n",
                        "4              ONE VISION           28  4.585517\n",
                        "5               Beat Hit!           27  4.344683\n",
                        "6   Borutesu Faibu No Uta           17  3.045833\n",
                        "7  Hello Mr. My Yesterday           26  4.474417\n",
                        "8           With the Will           26  4.089817\n",
                        "9        Umapyoi Densetsu           24  4.417633\n"
                    ]
                }
            ],
            "source": [
                "df = pd.DataFrame(canciones)\n",
                "print(df.head(10))"
            ]
        },
        {
            "cell_type": "code",
            "execution_count": 8,
            "metadata": {},
            "outputs": [
                {
                    "data": {
                        "image/png": "[encoded data removed]",
                        "text/plain": [
                            "<Figure size 640x480 with 1 Axes>"
                        ]
                    },
                    "metadata": {},
                    "output_type": "display_data"
                }
            ],
            "source": [
                "plt.scatter(df['duracion'], df['popularidad'])\n",
                "plt.xlabel('Duracion')\n",
                "plt.ylabel('Popularidad')\n",
                "plt.title('Duracion vs Popularidad')\n",
                "plt.show()"
            ]
        },
        {
            "cell_type": "markdown",
            "metadata": {},
            "source": [
                "Como se puede observar, si hay cierta relacion entre la duracion y la popularidad, ya que las canciones que tienen una duracion mayor a 3,6 min tienen una popularidad alta mientras la que tiene 3min aproximadamente tiene menor popularidad"
            ]
        }
    ],
    "metadata": {
        "kernelspec": {
            "display_name": "Python 3",
            "language": "python",
            "name": "python3"
        },
        "language_info": {
            "codemirror_mode": {
                "name": "ipython",
                "version": 3
            },
            "file_extension": ".py",
            "mimetype": "text/x-python",
            "name": "python",
            "nbconvert_exporter": "python",
            "pygments_lexer": "ipython3",
            "version": "3.11.4"
        },
        "orig_nbformat": 4
    },
    "nbformat": 4,
    "nbformat_minor": 2
}
